{
  "nbformat": 4,
  "nbformat_minor": 0,
  "metadata": {
    "colab": {
      "provenance": [],
      "authorship_tag": "ABX9TyNfWY5dnymIy2XAnSjMKy1I",
      "include_colab_link": true
    },
    "kernelspec": {
      "name": "python3",
      "display_name": "Python 3"
    },
    "language_info": {
      "name": "python"
    }
  },
  "cells": [
    {
      "cell_type": "markdown",
      "metadata": {
        "id": "view-in-github",
        "colab_type": "text"
      },
      "source": [
        "<a href=\"https://colab.research.google.com/github/tetsugps/GPT_Tutorials/blob/main/GPT%E7%A0%94%E4%BF%AE1_Web%E3%82%B5%E3%82%A4%E3%83%88%E3%82%92%E8%AA%AD%E3%81%BE%E3%81%9B%E3%81%A6%E5%9B%9E%E7%AD%94%E3%81%95%E3%81%9B%E3%82%8B.ipynb\" target=\"_parent\"><img src=\"https://colab.research.google.com/assets/colab-badge.svg\" alt=\"Open In Colab\"/></a>"
      ]
    },
    {
      "cell_type": "code",
      "execution_count": null,
      "metadata": {
        "id": "BuS-56X3e5Xz"
      },
      "outputs": [],
      "source": [
        "!pip install llama-index >/dev/null"
      ]
    },
    {
      "cell_type": "code",
      "source": [
        "import os\n",
        "from llama_index import GPTSimpleVectorIndex,BeautifulSoupWebReader\n",
        "os.environ[\"OPENAI_API_KEY\"] = 'OpenAIでAPI Keyを取得して貼り付ける！'"
      ],
      "metadata": {
        "id": "tz2B2tM9fBdT"
      },
      "execution_count": 30,
      "outputs": []
    },
    {
      "cell_type": "code",
      "source": [
        "# Webサイトを読み込む\n",
        "documents = BeautifulSoupWebReader().load_data(urls=['https://t-i.jp'])\n",
        "# インデックスを作る\n",
        "index = GPTSimpleVectorIndex(documents)"
      ],
      "metadata": {
        "id": "EDCng_DF6vBa"
      },
      "execution_count": 31,
      "outputs": []
    },
    {
      "cell_type": "code",
      "source": [
        "# 質問してみる\n",
        "index.query('ティーアイは何の会社？').response"
      ],
      "metadata": {
        "colab": {
          "base_uri": "https://localhost:8080/",
          "height": 35
        },
        "id": "U1sZRCVC8mKN",
        "outputId": "be57c7d1-1dcc-4566-e7d9-419269345210"
      },
      "execution_count": 33,
      "outputs": [
        {
          "output_type": "execute_result",
          "data": {
            "text/plain": [
              "'\\nティーアイは、テクノロジーを使って会社を便利に変える会社です。'"
            ],
            "application/vnd.google.colaboratory.intrinsic+json": {
              "type": "string"
            }
          },
          "metadata": {},
          "execution_count": 33
        }
      ]
    }
  ]
}